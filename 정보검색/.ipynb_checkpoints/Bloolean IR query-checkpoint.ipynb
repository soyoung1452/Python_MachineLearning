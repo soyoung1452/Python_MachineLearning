{
 "cells": [
  {
   "cell_type": "code",
   "execution_count": 1,
   "id": "bfb8b51e",
   "metadata": {},
   "outputs": [
    {
     "name": "stderr",
     "output_type": "stream",
     "text": [
      "[nltk_data] Downloading package punkt to\n",
      "[nltk_data]     C:\\Users\\sypar\\AppData\\Roaming\\nltk_data...\n",
      "[nltk_data]   Package punkt is already up-to-date!\n"
     ]
    },
    {
     "data": {
      "text/plain": [
       "True"
      ]
     },
     "execution_count": 1,
     "metadata": {},
     "output_type": "execute_result"
    }
   ],
   "source": [
    "import nltk\n",
    "from nltk.tokenize import word_tokenize\n",
    "nltk.download('punkt')"
   ]
  },
  {
   "cell_type": "code",
   "execution_count": 2,
   "id": "359e7483",
   "metadata": {},
   "outputs": [],
   "source": [
    "def spimi_invert(tokenized_docs):\n",
    "    index = {}\n",
    "    doc_id = 0\n",
    "    \n",
    "    for doc in tokenized_docs:\n",
    "        for term in doc:\n",
    "            if term not in index:\n",
    "                index[term] = []\n",
    "            if doc_id not in index[term]:\n",
    "                index[term].append(doc_id)\n",
    "                \n",
    "        doc_id += 1\n",
    "    \n",
    "    return index"
   ]
  },
  {
   "cell_type": "code",
   "execution_count": 8,
   "id": "44971894",
   "metadata": {},
   "outputs": [],
   "source": [
    "documents = [\n",
    "    \"apple banana orange\",\n",
    "    \"banana orange strawberry\",\n",
    "    \"apple strawberry\",\n",
    "    \"orange\"\n",
    "]"
   ]
  },
  {
   "cell_type": "code",
   "execution_count": 9,
   "id": "01d774b7",
   "metadata": {},
   "outputs": [],
   "source": [
    "tokenized_docs = [word_tokenize(doc.lower()) for doc in documents]\n",
    "index = spimi_invert(tokenized_docs)"
   ]
  },
  {
   "cell_type": "code",
   "execution_count": 10,
   "id": "a2ac4ebd",
   "metadata": {},
   "outputs": [
    {
     "data": {
      "text/plain": [
       "{'apple': [0, 2], 'banana': [0, 1], 'orange': [0, 1, 3], 'strawberry': [1, 2]}"
      ]
     },
     "execution_count": 10,
     "metadata": {},
     "output_type": "execute_result"
    }
   ],
   "source": [
    "index"
   ]
  },
  {
   "cell_type": "markdown",
   "id": "a1e270ef",
   "metadata": {},
   "source": [
    "#### X OR Y"
   ]
  },
  {
   "cell_type": "code",
   "execution_count": 26,
   "id": "c9934d00",
   "metadata": {},
   "outputs": [],
   "source": [
    "def boolean_or(query_terms):\n",
    "    result = []\n",
    "    for term in query_terms:\n",
    "        if term in index:\n",
    "            result += index[term] # term의 인덱스 모두 result 넣기\n",
    "    return list(set(result))   # 중복 값 없애기"
   ]
  },
  {
   "cell_type": "code",
   "execution_count": 27,
   "id": "27922a7e",
   "metadata": {},
   "outputs": [
    {
     "data": {
      "text/plain": [
       "[0, 1, 2]"
      ]
     },
     "execution_count": 27,
     "metadata": {},
     "output_type": "execute_result"
    }
   ],
   "source": [
    "boolean_or([\"apple\", \"banana\"])"
   ]
  },
  {
   "cell_type": "markdown",
   "id": "5b79f373",
   "metadata": {},
   "source": [
    "#### X AND Y"
   ]
  },
  {
   "cell_type": "code",
   "execution_count": 42,
   "id": "ac673ccd",
   "metadata": {},
   "outputs": [],
   "source": [
    "def boolean_and(query_terms):\n",
    "    result = None\n",
    "    for term in query_terms:\n",
    "        if term in index:\n",
    "            if result is None:\n",
    "                result = set(index[term])\n",
    "            else:\n",
    "                # intersection_update\n",
    "                # 집합(set) 객체의 메서드 중 하나\n",
    "                # 집합 객체 자체를 다른 집합과의 교집합으로 업데이트\n",
    "                result.intersection_update(index[term])\n",
    "        else:\n",
    "            return []\n",
    "    return list(result)"
   ]
  },
  {
   "cell_type": "code",
   "execution_count": 43,
   "id": "a6745d63",
   "metadata": {},
   "outputs": [
    {
     "data": {
      "text/plain": [
       "[2]"
      ]
     },
     "execution_count": 43,
     "metadata": {},
     "output_type": "execute_result"
    }
   ],
   "source": [
    "boolean_and([\"apple\", \"strawberry\"])"
   ]
  },
  {
   "cell_type": "markdown",
   "id": "6c20137f",
   "metadata": {},
   "source": [
    "#### X AND NOT Y"
   ]
  },
  {
   "cell_type": "code",
   "execution_count": 44,
   "id": "aeaf579d",
   "metadata": {},
   "outputs": [],
   "source": [
    "def boolean_and_not(query_terms):\n",
    "    # 질의가 두 개의 용어로 이루어져 있지 않으면 빈 리스트 반환\n",
    "    # 유효한 질의 형태 아닌 경우 처리하기 위함\n",
    "    if len(query_terms) != 2:\n",
    "        return []\n",
    "    \n",
    "    term1, term2 = query_terms\n",
    "    # term1이 존재하고 term2가 존재하지 않는 문서ID들을 반환\n",
    "    if term1 in index and term2 in index:\n",
    "        return list(set(index[term1]) - set(index[term2]))\n",
    "    # term1만 index에 존재하는 경우, term1이 존재하는 ID 반환\n",
    "    elif term1 in index:\n",
    "        return index[term1]\n",
    "    # term1과 term2 모두 index에 존재하지 않는 경우 빈리스트 반환\n",
    "    else:\n",
    "        return []"
   ]
  },
  {
   "cell_type": "code",
   "execution_count": 52,
   "id": "4ea4a340",
   "metadata": {},
   "outputs": [
    {
     "data": {
      "text/plain": [
       "[2]"
      ]
     },
     "execution_count": 52,
     "metadata": {},
     "output_type": "execute_result"
    }
   ],
   "source": [
    "boolean_and_not([\"apple\", \"orange\"])"
   ]
  },
  {
   "cell_type": "markdown",
   "id": "1d9d6228",
   "metadata": {},
   "source": [
    "#### X OR NOT Y"
   ]
  },
  {
   "cell_type": "code",
   "execution_count": 53,
   "id": "6ecaf58e",
   "metadata": {},
   "outputs": [],
   "source": [
    "def boolean_or_not(query_terms):\n",
    "    if len(query_terms) != 2:\n",
    "        return []\n",
    "    \n",
    "    term1, term2 = query_terms\n",
    "    if term1 in index and term2 in index:\n",
    "        return list(set(index[term1] + list(set(range(len(documents))) - set(index[term2]))))\n",
    "    elif term1 in index:\n",
    "        return index[term1]\n",
    "    elif term2 in index:\n",
    "        return list(set(range(len(documents))) - set(index[term2]))\n",
    "    else:\n",
    "        return []"
   ]
  },
  {
   "cell_type": "code",
   "execution_count": null,
   "id": "91fa0784",
   "metadata": {},
   "outputs": [],
   "source": [
    "boolean_or_not([\"apple\", \"orange\"])"
   ]
  },
  {
   "cell_type": "code",
   "execution_count": null,
   "id": "bc5c4163",
   "metadata": {},
   "outputs": [],
   "source": []
  }
 ],
 "metadata": {
  "kernelspec": {
   "display_name": "Python 3 (ipykernel)",
   "language": "python",
   "name": "python3"
  },
  "language_info": {
   "codemirror_mode": {
    "name": "ipython",
    "version": 3
   },
   "file_extension": ".py",
   "mimetype": "text/x-python",
   "name": "python",
   "nbconvert_exporter": "python",
   "pygments_lexer": "ipython3",
   "version": "3.9.7"
  }
 },
 "nbformat": 4,
 "nbformat_minor": 5
}
