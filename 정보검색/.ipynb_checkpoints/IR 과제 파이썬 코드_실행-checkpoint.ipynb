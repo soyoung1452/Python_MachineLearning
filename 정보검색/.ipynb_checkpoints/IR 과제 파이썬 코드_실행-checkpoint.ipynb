{
 "cells": [
  {
   "cell_type": "markdown",
   "id": "50c97167",
   "metadata": {},
   "source": [
    "#### 구현한 함수 모듈 import"
   ]
  },
  {
   "cell_type": "code",
   "execution_count": 2,
   "id": "6131d109",
   "metadata": {},
   "outputs": [],
   "source": [
    "import pandas as pd\n",
    "import IR_sy"
   ]
  },
  {
   "cell_type": "markdown",
   "id": "f77475e9",
   "metadata": {},
   "source": [
    "#### stories.zip 문서 불러오기"
   ]
  },
  {
   "cell_type": "markdown",
   "id": "f19e2475",
   "metadata": {},
   "source": [
    "* 텍스트 문서 불러오기\n",
    "* 총 455개의 문서가 load"
   ]
  },
  {
   "cell_type": "code",
   "execution_count": null,
   "id": "2623e0a9",
   "metadata": {},
   "outputs": [
    {
     "name": "stderr",
     "output_type": "stream",
     "text": [
      " 21%|█████████████████                                                                | 96/455 [00:07<00:16, 21.28it/s]"
     ]
    }
   ],
   "source": [
    "# 문서가 있는 폴더 경로\n",
    "folder_path = 'stories'   \n",
    "# 토큰화된 문서 dict와 파일명 dict 생성\n",
    "tokenized_docs, filename_dic = IR_sy.read_documents(folder_path)    "
   ]
  },
  {
   "cell_type": "code",
   "execution_count": null,
   "id": "49c73155",
   "metadata": {},
   "outputs": [],
   "source": [
    "# 파일 확장자별 문서 수 계산\n",
    "extension_counts = {}\n",
    "for document in filename_dic.values():\n",
    "    extension = document.split('.')[-1]\n",
    "    if extension in extension_counts:\n",
    "        extension_counts[extension] += 1\n",
    "    else:\n",
    "        extension_counts[extension] = 1"
   ]
  },
  {
   "cell_type": "code",
   "execution_count": null,
   "id": "c9e35633",
   "metadata": {},
   "outputs": [],
   "source": [
    "# 파일 확장자 건수에 대한 통계표 생성\n",
    "stats1 = pd.DataFrame({\n",
    "    '파일 확장자': list(extension_counts.keys()),\n",
    "    '문서 수': list(extension_counts.values())\n",
    "})\n",
    "\n",
    "stats1 = stats1.sort_values(by='문서 수', ascending=False)\n",
    "stats1"
   ]
  },
  {
   "cell_type": "markdown",
   "id": "6f5bd18b",
   "metadata": {},
   "source": [
    "#### SMIPI unigram inverted index 구현"
   ]
  },
  {
   "cell_type": "code",
   "execution_count": null,
   "id": "29172588",
   "metadata": {},
   "outputs": [],
   "source": [
    "inverted_index = IR_sy.spimi_invert(tokenized_docs)"
   ]
  },
  {
   "cell_type": "code",
   "execution_count": null,
   "id": "89f81307",
   "metadata": {},
   "outputs": [],
   "source": [
    "# 단어별 문서 건수\n",
    "stats2 = []\n",
    "for term, doc_ids in inverted_index.items():\n",
    "    doc_count = len(doc_ids)\n",
    "    stats2.append((term, doc_count))\n",
    "    \n",
    "stats2.sort(key=lambda x: x[1], reverse=True)"
   ]
  },
  {
   "cell_type": "code",
   "execution_count": null,
   "id": "34aa95d4",
   "metadata": {},
   "outputs": [],
   "source": [
    "for term, doc_count in stats2:\n",
    "    print(f\"Term: {term} | Document Count: {doc_count}\")"
   ]
  },
  {
   "cell_type": "markdown",
   "id": "a49257cf",
   "metadata": {},
   "source": [
    "#### boolean query 문서 검색"
   ]
  },
  {
   "cell_type": "code",
   "execution_count": null,
   "id": "1dda2920",
   "metadata": {},
   "outputs": [],
   "source": [
    "query =\"Everyday Wish\""
   ]
  },
  {
   "cell_type": "code",
   "execution_count": null,
   "id": "3d1ca445",
   "metadata": {
    "scrolled": false
   },
   "outputs": [],
   "source": [
    "# AND query\n",
    "and_result = IR_sy.boolean_and(inverted_index, query)\n",
    "\n",
    "print(\"AND Boolean Results:\", len(and_result), \"건\") \n",
    "for doc_id in and_result:\n",
    "    print(f\"Document {doc_id:3}: {filename_dic[doc_id]:15}\")"
   ]
  },
  {
   "cell_type": "code",
   "execution_count": null,
   "id": "1a6da2cf",
   "metadata": {},
   "outputs": [],
   "source": [
    "# OR query\n",
    "or_result = IR_sy.boolean_or(inverted_index, query)\n",
    "\n",
    "print(\"OR Boolean Results:\", len(or_result), \"건\") \n",
    "for doc_id in or_result:\n",
    "    print(f\"Document {doc_id:3}: {filename_dic[doc_id]:15}\")"
   ]
  },
  {
   "cell_type": "code",
   "execution_count": null,
   "id": "49fe020c",
   "metadata": {},
   "outputs": [],
   "source": [
    "# AND NOT query\n",
    "and_not_result = IR_sy.boolean_and_not(inverted_index, query)\n",
    "\n",
    "print(\"AND NOT Boolean Results:\", len(and_not_result), \"건\") \n",
    "for doc_id in and_not_result:\n",
    "    print(f\"Document {doc_id:3}: {filename_dic[doc_id]:15}\")"
   ]
  },
  {
   "cell_type": "code",
   "execution_count": null,
   "id": "2fcb7b1c",
   "metadata": {
    "scrolled": true
   },
   "outputs": [],
   "source": [
    "# OR NOT query\n",
    "or_not_result = IR_sy.boolean_or_not(tokenized_docs,inverted_index, query)\n",
    "\n",
    "print(\"OR NOT Boolean Results:\", len(or_not_result), \"건\") \n",
    "for doc_id in or_not_result:\n",
    "    print(f\"Document {doc_id:3}: {filename_dic[doc_id]:15}\")"
   ]
  },
  {
   "cell_type": "markdown",
   "id": "817fff73",
   "metadata": {},
   "source": [
    "#### 문서의 TF-IDF 계산"
   ]
  },
  {
   "cell_type": "code",
   "execution_count": null,
   "id": "ea671cd4",
   "metadata": {},
   "outputs": [],
   "source": [
    "tfidf_scores = IR_sy.calculate_tf_idf(tokenized_docs)"
   ]
  },
  {
   "cell_type": "code",
   "execution_count": null,
   "id": "18f86f0b",
   "metadata": {},
   "outputs": [],
   "source": [
    "tfidf_scores"
   ]
  },
  {
   "cell_type": "markdown",
   "id": "3ba18463",
   "metadata": {},
   "source": [
    "#### ranked 문서 검색"
   ]
  },
  {
   "cell_type": "code",
   "execution_count": null,
   "id": "57318449",
   "metadata": {},
   "outputs": [],
   "source": [
    "query"
   ]
  },
  {
   "cell_type": "code",
   "execution_count": null,
   "id": "a96e3605",
   "metadata": {},
   "outputs": [],
   "source": [
    "# Free text query : 'Everyday Wish'\n",
    "ranked_result = IR_sy.ranked_retrieval(tfidf_scores, query)"
   ]
  },
  {
   "cell_type": "code",
   "execution_count": null,
   "id": "c887e0e5",
   "metadata": {},
   "outputs": [],
   "source": [
    "print(\"Ranked Results:\", len(ranked_result), \"건\") \n",
    "for doc_id, score in ranked_result:\n",
    "    print(f\"Document {doc_id:3}: {filename_dic[doc_id]:15}→   TF-IDF score = {score:.4f}\")"
   ]
  },
  {
   "cell_type": "markdown",
   "id": "5c683bbb",
   "metadata": {},
   "source": [
    "#### 상위문서 TF-IDF 점수 확인"
   ]
  },
  {
   "cell_type": "code",
   "execution_count": null,
   "id": "74c9d7c5",
   "metadata": {},
   "outputs": [],
   "source": [
    "print(len(tfidf_scores[13]))\n",
    "print(sorted(tfidf_scores[13].items(), key = lambda x:x[1], reverse=True)[:5])"
   ]
  }
 ],
 "metadata": {
  "kernelspec": {
   "display_name": "Python 3 (ipykernel)",
   "language": "python",
   "name": "python3"
  },
  "language_info": {
   "codemirror_mode": {
    "name": "ipython",
    "version": 3
   },
   "file_extension": ".py",
   "mimetype": "text/x-python",
   "name": "python",
   "nbconvert_exporter": "python",
   "pygments_lexer": "ipython3",
   "version": "3.9.7"
  }
 },
 "nbformat": 4,
 "nbformat_minor": 5
}
