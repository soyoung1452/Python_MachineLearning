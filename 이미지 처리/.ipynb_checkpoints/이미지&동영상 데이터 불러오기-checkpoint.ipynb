{
 "cells": [
  {
   "cell_type": "code",
   "execution_count": 2,
   "id": "0a2748a0",
   "metadata": {},
   "outputs": [],
   "source": [
    "import os"
   ]
  },
  {
   "cell_type": "code",
   "execution_count": 3,
   "id": "684cb480",
   "metadata": {},
   "outputs": [
    {
     "data": {
      "text/plain": [
       "'C:\\\\Users\\\\sypar\\\\Desktop\\\\git\\\\(실습) Python_머신러닝\\\\이미지 처리'"
      ]
     },
     "execution_count": 3,
     "metadata": {},
     "output_type": "execute_result"
    }
   ],
   "source": [
    "# 현재 경로 확인\n",
    "os.getcwd()"
   ]
  },
  {
   "cell_type": "markdown",
   "id": "9f4634d7",
   "metadata": {},
   "source": [
    "### 이미지 데이터 불러오기"
   ]
  },
  {
   "cell_type": "code",
   "execution_count": null,
   "id": "d31c2b2e",
   "metadata": {},
   "outputs": [],
   "source": [
    "pip install opencv-python"
   ]
  },
  {
   "cell_type": "code",
   "execution_count": 4,
   "id": "97e806c2",
   "metadata": {},
   "outputs": [],
   "source": [
    "# opencv 라이브러리\n",
    "import cv2"
   ]
  },
  {
   "cell_type": "code",
   "execution_count": 5,
   "id": "00a15080",
   "metadata": {},
   "outputs": [],
   "source": [
    "# 이미지를 불러와 img에 저장\n",
    "# 주의: 경로에 한글이 들어가면 안됨\n",
    "img = cv2.imread(\"ch.9/img/img01.jpg\")"
   ]
  },
  {
   "cell_type": "code",
   "execution_count": 6,
   "id": "f79f42b0",
   "metadata": {},
   "outputs": [
    {
     "name": "stdout",
     "output_type": "stream",
     "text": [
      "이미지 가로: 1920\n",
      "이미지 세로: 1440\n"
     ]
    }
   ],
   "source": [
    "# img에 포함된 이미지 정보 추출\n",
    "height, width = img.shape[:2]\n",
    "print(\"이미지 가로: \" + str(width))\n",
    "print(\"이미지 세로: \" + str(height))"
   ]
  },
  {
   "cell_type": "code",
   "execution_count": 8,
   "id": "0b02499d",
   "metadata": {},
   "outputs": [],
   "source": [
    "# 이미지 표시하기\n",
    "# waitKey: 몇초동안 이미지 표시하는지(ms), 1000 -> 1초, 0 -> 윈도우 닫을 때까지\n",
    "cv2.imshow(\"img\",img)\n",
    "cv2.waitKey(0)\n",
    "cv2.destroyAllWindows()"
   ]
  },
  {
   "cell_type": "markdown",
   "id": "8ce3ca5d",
   "metadata": {},
   "source": [
    "### 동영상 데이터 불러오기"
   ]
  },
  {
   "cell_type": "code",
   "execution_count": 9,
   "id": "0d982a95",
   "metadata": {},
   "outputs": [],
   "source": [
    "import cv2"
   ]
  },
  {
   "cell_type": "code",
   "execution_count": 10,
   "id": "07694b06",
   "metadata": {},
   "outputs": [],
   "source": [
    "# 정보 취득 #\n",
    "# 불러온 동영상 정보를 cap에 저장\n",
    "cap = cv2.VideoCapture(\"ch.9/mov/mov01.avi\")"
   ]
  },
  {
   "cell_type": "code",
   "execution_count": 11,
   "id": "39c81ee5",
   "metadata": {},
   "outputs": [
    {
     "name": "stdout",
     "output_type": "stream",
     "text": [
      "가로: 1920.0\n",
      "세로: 1440.0\n",
      "총 프레임수: 401.0\n",
      "FPS: 30.0\n"
     ]
    }
   ],
   "source": [
    "# cap에 포함된 동영상 정보 추출\n",
    "width = cap.get(cv2.CAP_PROP_FRAME_WIDTH)\n",
    "height = cap.get(cv2.CAP_PROP_FRAME_HEIGHT)\n",
    "count = cap.get(cv2.CAP_PROP_FRAME_COUNT)\n",
    "fps = cap.get(cv2.CAP_PROP_FPS)\n",
    "\n",
    "print(\"가로: \" + str(width))\n",
    "print(\"세로: \" + str(height))\n",
    "print(\"총 프레임수: \" + str(count))\n",
    "print(\"FPS: \" + str(fps))"
   ]
  },
  {
   "cell_type": "code",
   "execution_count": null,
   "id": "a4e32f32",
   "metadata": {},
   "outputs": [],
   "source": [
    "# 출력 #\n",
    "# cap에 저장된 동영상 정보를 프레임마다 처리\n",
    "# 각 프레임 정보를 함수 read로 읽어들임\n",
    "# frame에 저장된 정보는 이미지 정보이기 떄문에 imshow로 표시할 수 있음\n",
    "# 각 프레임을 1밀리미초 동안 표시하고 다음 프레임으로 이동\n",
    "# 모든 프레임을 처리하거나 q키를 클릭하면 종료. 마지막으로 창을 닫고 종료\n",
    "\n",
    "while(cap.isOpened()):\n",
    "    ret, frame = cap.read()\n",
    "    if ret:\n",
    "        cv2.imshow(\"frame\", frame)\n",
    "    if cv2.waitKey(1) & 0xFF == ord(\"q\"):\n",
    "        break\n",
    "        \n",
    "cap.release()\n",
    "cv2.destroyAllWindows()"
   ]
  },
  {
   "cell_type": "code",
   "execution_count": null,
   "id": "577a9205",
   "metadata": {},
   "outputs": [],
   "source": []
  }
 ],
 "metadata": {
  "kernelspec": {
   "display_name": "Python 3 (ipykernel)",
   "language": "python",
   "name": "python3"
  },
  "language_info": {
   "codemirror_mode": {
    "name": "ipython",
    "version": 3
   },
   "file_extension": ".py",
   "mimetype": "text/x-python",
   "name": "python",
   "nbconvert_exporter": "python",
   "pygments_lexer": "ipython3",
   "version": "3.9.7"
  }
 },
 "nbformat": 4,
 "nbformat_minor": 5
}
