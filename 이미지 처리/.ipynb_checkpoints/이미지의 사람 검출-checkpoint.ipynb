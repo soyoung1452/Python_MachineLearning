{
 "cells": [
  {
   "cell_type": "markdown",
   "id": "416c2e67",
   "metadata": {},
   "source": [
    "### 사람 위치 검출"
   ]
  },
  {
   "cell_type": "code",
   "execution_count": null,
   "id": "fa2663d4",
   "metadata": {},
   "outputs": [],
   "source": [
    "# 사람 인식-> 'HOG(Histogram of Oriented Gradients, 휘도의 기울기) 특징량' 사용\n",
    "# 사람 실루엣 형태의 특징을 위치나 각도로 표현한 것"
   ]
  },
  {
   "cell_type": "code",
   "execution_count": 1,
   "id": "2b9be8a6",
   "metadata": {},
   "outputs": [],
   "source": [
    "import cv2"
   ]
  },
  {
   "cell_type": "code",
   "execution_count": 7,
   "id": "b207b151",
   "metadata": {},
   "outputs": [],
   "source": [
    "## 준비 ##\n",
    "# HOGDescriptor를 선언하고 사람 모델을 지정\n",
    "hog = cv2.HOGDescriptor()\n",
    "# 모델은 함수 setSVMDetector사용하고 인수 cv2.HOGDescriptor_getDefaultPeopleDetector() 지정\n",
    "hog.setSVMDetector(cv2.HOGDescriptor_getDefaultPeopleDetector()) \n",
    "hogParams = {'winStride': (8,8),'padding': (32,32), 'scale': 1.05, 'hitThreshold':0}"
   ]
  },
  {
   "cell_type": "code",
   "execution_count": 8,
   "id": "4a27a82d",
   "metadata": {},
   "outputs": [],
   "source": [
    "## 검출\n",
    "img = cv2.imread(\"ch.9/img/img01.jpg\")\n",
    "gray = cv2.cvtColor(img, cv2.COLOR_BGR2GRAY) # 읽어드린 이미지를 흑백으로 변환\n",
    "human, r = hog.detectMultiScale(gray, **hogParams)   # human: 검출된 사람 위치 정보"
   ]
  },
  {
   "cell_type": "code",
   "execution_count": 12,
   "id": "5e27f04e",
   "metadata": {},
   "outputs": [
    {
     "data": {
      "text/plain": [
       "array([[255, 255, 255, ..., 195, 186, 190],\n",
       "       [255, 255, 255, ..., 239, 212, 193],\n",
       "       [255, 255, 255, ..., 250, 218, 187],\n",
       "       ...,\n",
       "       [ 42,  42,  42, ...,  45,  45,  45],\n",
       "       [ 42,  42,  42, ...,  45,  45,  45],\n",
       "       [ 42,  42,  42, ...,  45,  45,  45]], dtype=uint8)"
      ]
     },
     "execution_count": 12,
     "metadata": {},
     "output_type": "execute_result"
    }
   ],
   "source": [
    "gray"
   ]
  },
  {
   "cell_type": "code",
   "execution_count": 16,
   "id": "dad65f5e",
   "metadata": {},
   "outputs": [
    {
     "data": {
      "text/plain": [
       "array([[ 953,  765,  311,  621],\n",
       "       [ 334,  705,  244,  488],\n",
       "       [1505,  848,  183,  367],\n",
       "       [ 823,  585,  127,  253],\n",
       "       [1857,  684,   63,  183],\n",
       "       [1339,  600,   86,  172],\n",
       "       [1527,  667,   80,  160],\n",
       "       [1699,  685,   76,  152],\n",
       "       [1420,  655,   98,  196],\n",
       "       [ 494,  232,   85,  170],\n",
       "       [1589,    1,   67,  135],\n",
       "       [ 763,  294,   70,  139],\n",
       "       [ 317,  640,   75,  149],\n",
       "       [ 926,  662,   74,  148],\n",
       "       [1490,  836,   73,  145],\n",
       "       [ 756,  860,   70,  139],\n",
       "       [ 615,    9,   73,  146],\n",
       "       [1655,   18,   72,  143]])"
      ]
     },
     "execution_count": 16,
     "metadata": {},
     "output_type": "execute_result"
    }
   ],
   "source": [
    "human"
   ]
  },
  {
   "cell_type": "code",
   "execution_count": 17,
   "id": "afc808c7",
   "metadata": {},
   "outputs": [
    {
     "data": {
      "text/plain": [
       "-1"
      ]
     },
     "execution_count": 17,
     "metadata": {},
     "output_type": "execute_result"
    }
   ],
   "source": [
    "if (len(human)>0):\n",
    "    for(x,y,w,h) in human:\n",
    "        cv2.rectangle(img, (x,y), (x+w, y+h), (255,255,255), 3) # rectangle: 정보와 이미지에 사각형을 그리는 함수\n",
    "\n",
    "cv2.imshow(\"img\", img)\n",
    "cv2.waitKey(0)"
   ]
  },
  {
   "cell_type": "markdown",
   "id": "4bf4446b",
   "metadata": {},
   "source": [
    "### 사람 얼굴 검출"
   ]
  },
  {
   "cell_type": "code",
   "execution_count": null,
   "id": "5841ee93",
   "metadata": {},
   "outputs": [],
   "source": [
    "# 얼굴 검출 -> 전통적으로 CascadeClassifier 사용"
   ]
  },
  {
   "cell_type": "code",
   "execution_count": 18,
   "id": "4bd89970",
   "metadata": {},
   "outputs": [],
   "source": [
    "import cv2"
   ]
  },
  {
   "cell_type": "code",
   "execution_count": 19,
   "id": "1d43f0e1",
   "metadata": {},
   "outputs": [],
   "source": [
    "## 준비\n",
    "cascade_file = \"ch.9/haarcascade_frontalface_alt.xml\"\n",
    "# CascadeClassifier를 선언하고 모델로 haarcascade_frontalface_alt.xml(정면 얼굴 인식 모델)을 지정\n",
    "cascade = cv2.CascadeClassifier(cascade_file)"
   ]
  },
  {
   "cell_type": "code",
   "execution_count": 23,
   "id": "ebe7aa70",
   "metadata": {},
   "outputs": [],
   "source": [
    "## 검출\n",
    "img = cv2.imread(\"ch.9/img/img02.jpg\")\n",
    "gray = cv2.cvtColor(img, cv2.COLOR_BGR2GRAY)\n",
    "face_list = cascade.detectMultiScale(gray, minSize = (50,50))"
   ]
  },
  {
   "cell_type": "code",
   "execution_count": 24,
   "id": "0069d435",
   "metadata": {},
   "outputs": [
    {
     "data": {
      "text/plain": [
       "array([[1051,   87,  182,  182]])"
      ]
     },
     "execution_count": 24,
     "metadata": {},
     "output_type": "execute_result"
    }
   ],
   "source": [
    "face_list"
   ]
  },
  {
   "cell_type": "code",
   "execution_count": 25,
   "id": "d084940a",
   "metadata": {},
   "outputs": [],
   "source": [
    "## 검출한 얼굴 표시\n",
    "for (x,y,w,h) in face_list:\n",
    "    color = (0,0,225)\n",
    "    pen_w = 3\n",
    "    cv2.rectangle(img, (x,y), (x+w, y+h), color, thickness = pen_w)\n",
    "\n",
    "cv2.namedWindow(\"img\", cv2.WINDOW_NORMAL)\n",
    "cv2.imshow(\"img\", img)\n",
    "cv2.imwrite(\"temp.jpg\", img) # 이미지 저장\n",
    "cv2.waitKey(0)\n",
    "cv2.destroyAllWindows()"
   ]
  },
  {
   "cell_type": "markdown",
   "id": "57fb5ecf",
   "metadata": {},
   "source": [
    "### 사람 얼굴 방향 검출"
   ]
  },
  {
   "cell_type": "code",
   "execution_count": 3,
   "id": "219450c6",
   "metadata": {},
   "outputs": [],
   "source": [
    "## 안면인식 기술 dlib 설치 필요!"
   ]
  },
  {
   "cell_type": "code",
   "execution_count": 5,
   "id": "de3ae9dd",
   "metadata": {},
   "outputs": [
    {
     "ename": "ModuleNotFoundError",
     "evalue": "No module named 'dlib'",
     "output_type": "error",
     "traceback": [
      "\u001b[1;31m---------------------------------------------------------------------------\u001b[0m",
      "\u001b[1;31mModuleNotFoundError\u001b[0m                       Traceback (most recent call last)",
      "\u001b[1;32m~\\AppData\\Local\\Temp/ipykernel_9176/415840200.py\u001b[0m in \u001b[0;36m<module>\u001b[1;34m\u001b[0m\n\u001b[0;32m      1\u001b[0m \u001b[1;32mimport\u001b[0m \u001b[0mcv2\u001b[0m\u001b[1;33m\u001b[0m\u001b[1;33m\u001b[0m\u001b[0m\n\u001b[1;32m----> 2\u001b[1;33m \u001b[1;32mimport\u001b[0m \u001b[0mdlib\u001b[0m\u001b[1;33m\u001b[0m\u001b[1;33m\u001b[0m\u001b[0m\n\u001b[0m\u001b[0;32m      3\u001b[0m \u001b[1;32mimport\u001b[0m \u001b[0mmath\u001b[0m\u001b[1;33m\u001b[0m\u001b[1;33m\u001b[0m\u001b[0m\n",
      "\u001b[1;31mModuleNotFoundError\u001b[0m: No module named 'dlib'"
     ]
    }
   ],
   "source": [
    "import cv2\n",
    "import dlib\n",
    "import math"
   ]
  },
  {
   "cell_type": "code",
   "execution_count": null,
   "id": "47b860ec",
   "metadata": {},
   "outputs": [],
   "source": [
    "## 준비\n",
    "# 68개의 얼굴 기관 모델 불러오기\n",
    "predictor = dlib.shape_predictor(\"ch.9/shape_predictor_68_face_landmarks.dat\")\n",
    "# 정면 얼굴 모델 불러오기\n",
    "detector = dlib.get_frontal_face_detector()"
   ]
  },
  {
   "cell_type": "code",
   "execution_count": null,
   "id": "deda3df1",
   "metadata": {},
   "outputs": [],
   "source": [
    "## 검출\n",
    "img = cv2.imread(\"ch.9/img/img02.jpg\")\n",
    "dets = detector(img, 1)\n",
    "\n",
    "for k, d in enumerate(dets):\n",
    "    shape = predictor(img, d)\n",
    "    \n",
    "    # 얼굴영역 표시\n",
    "    color_f = (0, 0, 225)\n",
    "    color_l_out = (255, 0, 0)\n",
    "    color_l_in = (0, 255, 0)\n",
    "    line_w = 3\n",
    "    circle_r = 3\n",
    "    fontType = cv2.FONT_HERSHEY_SIMPLEX\n",
    "    fontsize = 1"
   ]
  },
  {
   "cell_type": "code",
   "execution_count": null,
   "id": "eb1cad03",
   "metadata": {},
   "outputs": [],
   "source": []
  },
  {
   "cell_type": "code",
   "execution_count": null,
   "id": "633d55e8",
   "metadata": {},
   "outputs": [],
   "source": []
  },
  {
   "cell_type": "code",
   "execution_count": null,
   "id": "189c3f9a",
   "metadata": {},
   "outputs": [],
   "source": []
  },
  {
   "cell_type": "code",
   "execution_count": null,
   "id": "414b143b",
   "metadata": {},
   "outputs": [],
   "source": []
  },
  {
   "cell_type": "code",
   "execution_count": null,
   "id": "a9199663",
   "metadata": {},
   "outputs": [],
   "source": []
  },
  {
   "cell_type": "code",
   "execution_count": null,
   "id": "b47c14f9",
   "metadata": {},
   "outputs": [],
   "source": []
  }
 ],
 "metadata": {
  "kernelspec": {
   "display_name": "Python 3 (ipykernel)",
   "language": "python",
   "name": "python3"
  },
  "language_info": {
   "codemirror_mode": {
    "name": "ipython",
    "version": 3
   },
   "file_extension": ".py",
   "mimetype": "text/x-python",
   "name": "python",
   "nbconvert_exporter": "python",
   "pygments_lexer": "ipython3",
   "version": "3.9.7"
  }
 },
 "nbformat": 4,
 "nbformat_minor": 5
}
