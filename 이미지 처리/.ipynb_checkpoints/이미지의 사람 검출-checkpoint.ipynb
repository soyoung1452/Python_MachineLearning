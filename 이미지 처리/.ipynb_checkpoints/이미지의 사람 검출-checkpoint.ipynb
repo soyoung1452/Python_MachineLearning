{
 "cells": [
  {
   "cell_type": "markdown",
   "id": "52a3d274",
   "metadata": {},
   "source": [
    "### 사람 위치 검출"
   ]
  },
  {
   "cell_type": "code",
   "execution_count": null,
   "id": "d09f06ad",
   "metadata": {},
   "outputs": [],
   "source": [
    "# 사람 인식-> 'HOG(Histogram of Oriented Gradients, 휘도의 기울기) 특징량' 사용\n",
    "# 사람 실루엣 형태의 특징을 위치나 각도로 표현한 것"
   ]
  },
  {
   "cell_type": "code",
   "execution_count": 1,
   "id": "500e35f5",
   "metadata": {},
   "outputs": [],
   "source": [
    "import cv2"
   ]
  },
  {
   "cell_type": "code",
   "execution_count": 7,
   "id": "a19e6566",
   "metadata": {},
   "outputs": [],
   "source": [
    "## 준비 ##\n",
    "# HOGDescriptor를 선언하고 사람 모델을 지정\n",
    "hog = cv2.HOGDescriptor()\n",
    "# 모델은 함수 setSVMDetector사용하고 인수 cv2.HOGDescriptor_getDefaultPeopleDetector() 지정\n",
    "hog.setSVMDetector(cv2.HOGDescriptor_getDefaultPeopleDetector()) \n",
    "hogParams = {'winStride': (8,8),'padding': (32,32), 'scale': 1.05, 'hitThreshold':0}"
   ]
  },
  {
   "cell_type": "code",
   "execution_count": 8,
   "id": "b180aa02",
   "metadata": {},
   "outputs": [],
   "source": [
    "## 검출\n",
    "img = cv2.imread(\"ch.9/img/img01.jpg\")\n",
    "gray = cv2.cvtColor(img, cv2.COLOR_BGR2GRAY) # 읽어드린 이미지를 흑백으로 변환\n",
    "human, r = hog.detectMultiScale(gray, **hogParams)   # human: 검출된 사람 위치 정보"
   ]
  },
  {
   "cell_type": "code",
   "execution_count": 12,
   "id": "5af577ab",
   "metadata": {},
   "outputs": [
    {
     "data": {
      "text/plain": [
       "array([[255, 255, 255, ..., 195, 186, 190],\n",
       "       [255, 255, 255, ..., 239, 212, 193],\n",
       "       [255, 255, 255, ..., 250, 218, 187],\n",
       "       ...,\n",
       "       [ 42,  42,  42, ...,  45,  45,  45],\n",
       "       [ 42,  42,  42, ...,  45,  45,  45],\n",
       "       [ 42,  42,  42, ...,  45,  45,  45]], dtype=uint8)"
      ]
     },
     "execution_count": 12,
     "metadata": {},
     "output_type": "execute_result"
    }
   ],
   "source": [
    "gray"
   ]
  },
  {
   "cell_type": "code",
   "execution_count": 16,
   "id": "e5633206",
   "metadata": {},
   "outputs": [
    {
     "data": {
      "text/plain": [
       "array([[ 953,  765,  311,  621],\n",
       "       [ 334,  705,  244,  488],\n",
       "       [1505,  848,  183,  367],\n",
       "       [ 823,  585,  127,  253],\n",
       "       [1857,  684,   63,  183],\n",
       "       [1339,  600,   86,  172],\n",
       "       [1527,  667,   80,  160],\n",
       "       [1699,  685,   76,  152],\n",
       "       [1420,  655,   98,  196],\n",
       "       [ 494,  232,   85,  170],\n",
       "       [1589,    1,   67,  135],\n",
       "       [ 763,  294,   70,  139],\n",
       "       [ 317,  640,   75,  149],\n",
       "       [ 926,  662,   74,  148],\n",
       "       [1490,  836,   73,  145],\n",
       "       [ 756,  860,   70,  139],\n",
       "       [ 615,    9,   73,  146],\n",
       "       [1655,   18,   72,  143]])"
      ]
     },
     "execution_count": 16,
     "metadata": {},
     "output_type": "execute_result"
    }
   ],
   "source": [
    "human"
   ]
  },
  {
   "cell_type": "code",
   "execution_count": 17,
   "id": "4080f00b",
   "metadata": {},
   "outputs": [
    {
     "data": {
      "text/plain": [
       "-1"
      ]
     },
     "execution_count": 17,
     "metadata": {},
     "output_type": "execute_result"
    }
   ],
   "source": [
    "if (len(human)>0):\n",
    "    for(x,y,w,h) in human:\n",
    "        cv2.rectangle(img, (x,y), (x+w, y+h), (255,255,255), 3) # rectangle: 정보와 이미지에 사각형을 그리는 함수\n",
    "\n",
    "cv2.imshow(\"img\", img)\n",
    "cv2.waitKey(0)"
   ]
  },
  {
   "cell_type": "markdown",
   "id": "9f56c31d",
   "metadata": {},
   "source": [
    "### 사람 얼굴 검출"
   ]
  },
  {
   "cell_type": "code",
   "execution_count": null,
   "id": "4855238b",
   "metadata": {},
   "outputs": [],
   "source": [
    "# 얼굴 검출 -> 전통적으로 CascadeClassifier 사용"
   ]
  },
  {
   "cell_type": "code",
   "execution_count": 18,
   "id": "e870bd00",
   "metadata": {},
   "outputs": [],
   "source": [
    "import cv2"
   ]
  },
  {
   "cell_type": "code",
   "execution_count": 19,
   "id": "fd1fa6ef",
   "metadata": {},
   "outputs": [],
   "source": [
    "## 준비\n",
    "cascade_file = \"ch.9/haarcascade_frontalface_alt.xml\"\n",
    "# CascadeClassifier를 선언하고 모델로 haarcascade_frontalface_alt.xml(정면 얼굴 인식 모델)을 지정\n",
    "cascade = cv2.CascadeClassifier(cascade_file)"
   ]
  },
  {
   "cell_type": "code",
   "execution_count": 23,
   "id": "7aee112a",
   "metadata": {},
   "outputs": [],
   "source": [
    "## 검출\n",
    "img = cv2.imread(\"ch.9/img/img02.jpg\")\n",
    "gray = cv2.cvtColor(img, cv2.COLOR_BGR2GRAY)\n",
    "face_list = cascade.detectMultiScale(gray, minSize = (50,50))"
   ]
  },
  {
   "cell_type": "code",
   "execution_count": 24,
   "id": "4845a5f8",
   "metadata": {},
   "outputs": [
    {
     "data": {
      "text/plain": [
       "array([[1051,   87,  182,  182]])"
      ]
     },
     "execution_count": 24,
     "metadata": {},
     "output_type": "execute_result"
    }
   ],
   "source": [
    "face_list"
   ]
  },
  {
   "cell_type": "code",
   "execution_count": 25,
   "id": "9928eb61",
   "metadata": {},
   "outputs": [],
   "source": [
    "## 검출한 얼굴 표시\n",
    "for (x,y,w,h) in face_list:\n",
    "    color = (0,0,225)\n",
    "    pen_w = 3\n",
    "    cv2.rectangle(img, (x,y), (x+w, y+h), color, thickness = pen_w)\n",
    "\n",
    "cv2.namedWindow(\"img\", cv2.WINDOW_NORMAL)\n",
    "cv2.imshow(\"img\", img)\n",
    "cv2.imwrite(\"temp.jpg\", img) # 이미지 저장\n",
    "cv2.waitKey(0)\n",
    "cv2.destroyAllWindows()"
   ]
  },
  {
   "cell_type": "code",
   "execution_count": null,
   "id": "5c8057a1",
   "metadata": {},
   "outputs": [],
   "source": []
  },
  {
   "cell_type": "code",
   "execution_count": null,
   "id": "10b24ab7",
   "metadata": {},
   "outputs": [],
   "source": []
  },
  {
   "cell_type": "code",
   "execution_count": null,
   "id": "f68d34a1",
   "metadata": {},
   "outputs": [],
   "source": []
  },
  {
   "cell_type": "code",
   "execution_count": null,
   "id": "09710b28",
   "metadata": {},
   "outputs": [],
   "source": []
  },
  {
   "cell_type": "code",
   "execution_count": null,
   "id": "b5554bd7",
   "metadata": {},
   "outputs": [],
   "source": []
  },
  {
   "cell_type": "code",
   "execution_count": null,
   "id": "b613f624",
   "metadata": {},
   "outputs": [],
   "source": []
  },
  {
   "cell_type": "code",
   "execution_count": null,
   "id": "7f9a552a",
   "metadata": {},
   "outputs": [],
   "source": []
  },
  {
   "cell_type": "code",
   "execution_count": null,
   "id": "ab4f596e",
   "metadata": {},
   "outputs": [],
   "source": []
  }
 ],
 "metadata": {
  "kernelspec": {
   "display_name": "Python 3 (ipykernel)",
   "language": "python",
   "name": "python3"
  },
  "language_info": {
   "codemirror_mode": {
    "name": "ipython",
    "version": 3
   },
   "file_extension": ".py",
   "mimetype": "text/x-python",
   "name": "python",
   "nbconvert_exporter": "python",
   "pygments_lexer": "ipython3",
   "version": "3.9.7"
  }
 },
 "nbformat": 4,
 "nbformat_minor": 5
}
